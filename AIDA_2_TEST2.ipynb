        "event_cols = sorted([c for c in df.columns if c.startswith('Event ') and not c.startswith('Date of')], key=lambda col: int(col.replace('Event ', '')))\n",
