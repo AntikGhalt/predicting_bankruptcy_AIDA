        "name_candidates = [c for c in id_cols if re.search(r'^company name', c, flags=re.I)]\n",
        "name_col = name_candidates[0] if name_candidates else 'Company name'\n",
